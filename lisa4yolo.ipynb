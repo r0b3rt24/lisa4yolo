{
 "cells": [
  {
   "cell_type": "markdown",
   "metadata": {},
   "source": [
    "# Lisa4Yolo\n",
    "\n",
    "In order to train our YOLO-V3 model(https://pjreddie.com/darknet/yolo/) with a traffic sign dataset, we need to modify the annotation file of LISA-TS into COCOdataset format. That the whole purpose of this program.\n",
    "\n",
    "### Download\n",
    "**LISA-TS:** http://cvrr.ucsd.edu/vivachallenge/index.php/signs/sign-detection/\n",
    "Three dataset and the provided python toolkit"
   ]
  },
  {
   "cell_type": "code",
   "execution_count": 14,
   "metadata": {},
   "outputs": [],
   "source": [
    "# Read annotation csv file\n",
    "import pandas as pd\n",
    "csvfile = pd.read_csv(\"./training/allTrainingAnnotations.csv\",sep = \";\")"
   ]
  },
  {
   "cell_type": "code",
   "execution_count": 15,
   "metadata": {},
   "outputs": [
    {
     "data": {
      "text/html": [
       "<div>\n",
       "<style scoped>\n",
       "    .dataframe tbody tr th:only-of-type {\n",
       "        vertical-align: middle;\n",
       "    }\n",
       "\n",
       "    .dataframe tbody tr th {\n",
       "        vertical-align: top;\n",
       "    }\n",
       "\n",
       "    .dataframe thead th {\n",
       "        text-align: right;\n",
       "    }\n",
       "</style>\n",
       "<table border=\"1\" class=\"dataframe\">\n",
       "  <thead>\n",
       "    <tr style=\"text-align: right;\">\n",
       "      <th></th>\n",
       "      <th>Filename</th>\n",
       "      <th>Annotation tag</th>\n",
       "      <th>Upper left corner X</th>\n",
       "      <th>Upper left corner Y</th>\n",
       "      <th>Lower right corner X</th>\n",
       "      <th>Lower right corner Y</th>\n",
       "      <th>Origin file</th>\n",
       "      <th>Origin frame number</th>\n",
       "      <th>Origin track</th>\n",
       "      <th>Origin track frame number</th>\n",
       "    </tr>\n",
       "  </thead>\n",
       "  <tbody>\n",
       "    <tr>\n",
       "      <th>0</th>\n",
       "      <td>2014-04-24_10-59/frameAnnotations-cam1-2.avi_a...</td>\n",
       "      <td>doNotEnter</td>\n",
       "      <td>1071</td>\n",
       "      <td>384</td>\n",
       "      <td>1116</td>\n",
       "      <td>432</td>\n",
       "      <td>training/2014-04-24_10-59/cam1-2.avi</td>\n",
       "      <td>358</td>\n",
       "      <td>doNotEnter_1399493428.avi</td>\n",
       "      <td>1</td>\n",
       "    </tr>\n",
       "    <tr>\n",
       "      <th>1</th>\n",
       "      <td>2014-04-24_10-59/frameAnnotations-cam1-2.avi_a...</td>\n",
       "      <td>doNotEnter</td>\n",
       "      <td>1129</td>\n",
       "      <td>367</td>\n",
       "      <td>1182</td>\n",
       "      <td>425</td>\n",
       "      <td>training/2014-04-24_10-59/cam1-2.avi</td>\n",
       "      <td>363</td>\n",
       "      <td>doNotEnter_1399493428.avi</td>\n",
       "      <td>6</td>\n",
       "    </tr>\n",
       "    <tr>\n",
       "      <th>2</th>\n",
       "      <td>2014-04-24_10-59/frameAnnotations-cam1-2.avi_a...</td>\n",
       "      <td>curveRight</td>\n",
       "      <td>691</td>\n",
       "      <td>429</td>\n",
       "      <td>728</td>\n",
       "      <td>467</td>\n",
       "      <td>training/2014-04-24_10-59/cam1-2.avi</td>\n",
       "      <td>545</td>\n",
       "      <td>curveRight_1399493457.avi</td>\n",
       "      <td>1</td>\n",
       "    </tr>\n",
       "    <tr>\n",
       "      <th>3</th>\n",
       "      <td>2014-04-24_10-59/frameAnnotations-cam1-2.avi_a...</td>\n",
       "      <td>curveRight</td>\n",
       "      <td>703</td>\n",
       "      <td>426</td>\n",
       "      <td>743</td>\n",
       "      <td>467</td>\n",
       "      <td>training/2014-04-24_10-59/cam1-2.avi</td>\n",
       "      <td>550</td>\n",
       "      <td>curveRight_1399493457.avi</td>\n",
       "      <td>6</td>\n",
       "    </tr>\n",
       "    <tr>\n",
       "      <th>4</th>\n",
       "      <td>2014-04-24_10-59/frameAnnotations-cam1-2.avi_a...</td>\n",
       "      <td>curveRight</td>\n",
       "      <td>720</td>\n",
       "      <td>417</td>\n",
       "      <td>764</td>\n",
       "      <td>466</td>\n",
       "      <td>training/2014-04-24_10-59/cam1-2.avi</td>\n",
       "      <td>555</td>\n",
       "      <td>curveRight_1399493457.avi</td>\n",
       "      <td>11</td>\n",
       "    </tr>\n",
       "  </tbody>\n",
       "</table>\n",
       "</div>"
      ],
      "text/plain": [
       "                                            Filename Annotation tag  \\\n",
       "0  2014-04-24_10-59/frameAnnotations-cam1-2.avi_a...     doNotEnter   \n",
       "1  2014-04-24_10-59/frameAnnotations-cam1-2.avi_a...     doNotEnter   \n",
       "2  2014-04-24_10-59/frameAnnotations-cam1-2.avi_a...     curveRight   \n",
       "3  2014-04-24_10-59/frameAnnotations-cam1-2.avi_a...     curveRight   \n",
       "4  2014-04-24_10-59/frameAnnotations-cam1-2.avi_a...     curveRight   \n",
       "\n",
       "   Upper left corner X  Upper left corner Y  Lower right corner X  \\\n",
       "0                 1071                  384                  1116   \n",
       "1                 1129                  367                  1182   \n",
       "2                  691                  429                   728   \n",
       "3                  703                  426                   743   \n",
       "4                  720                  417                   764   \n",
       "\n",
       "   Lower right corner Y                           Origin file  \\\n",
       "0                   432  training/2014-04-24_10-59/cam1-2.avi   \n",
       "1                   425  training/2014-04-24_10-59/cam1-2.avi   \n",
       "2                   467  training/2014-04-24_10-59/cam1-2.avi   \n",
       "3                   467  training/2014-04-24_10-59/cam1-2.avi   \n",
       "4                   466  training/2014-04-24_10-59/cam1-2.avi   \n",
       "\n",
       "   Origin frame number               Origin track  Origin track frame number  \n",
       "0                  358  doNotEnter_1399493428.avi                          1  \n",
       "1                  363  doNotEnter_1399493428.avi                          6  \n",
       "2                  545  curveRight_1399493457.avi                          1  \n",
       "3                  550  curveRight_1399493457.avi                          6  \n",
       "4                  555  curveRight_1399493457.avi                         11  "
      ]
     },
     "execution_count": 15,
     "metadata": {},
     "output_type": "execute_result"
    }
   ],
   "source": [
    "csvfile.head()"
   ]
  },
  {
   "cell_type": "code",
   "execution_count": 43,
   "metadata": {},
   "outputs": [],
   "source": [
    "# Extract the path to each image\n",
    "pathes = csvfile['Filename']\n",
    "with open(\"train.txt\", 'w') as t:\n",
    "    for i in pathes:\n",
    "        t.write(i+\"\\n\")"
   ]
  },
  {
   "cell_type": "code",
   "execution_count": 36,
   "metadata": {},
   "outputs": [],
   "source": [
    "# Generate the 'obj.names'\n",
    "tag = csvfile['Annotation tag']\n",
    "myclass = tag.unique()\n",
    "namefile = open('obj.name', 'w')\n",
    "for tag in myclass:\n",
    "    namefile.write(tag+\"\\n\")\n",
    "namefile.close()"
   ]
  },
  {
   "cell_type": "code",
   "execution_count": 37,
   "metadata": {},
   "outputs": [],
   "source": [
    "# we also need the size of the original image\n",
    "# we can get it according to the name provided\n",
    "# append to column to the panda dataframe\n",
    "# from PIL import Image\n",
    "# for path in pathes:\n",
    "#     im = Image.open(\"training/\"+path);\n",
    "#     print(im.size)"
   ]
  },
  {
   "cell_type": "markdown",
   "metadata": {},
   "source": [
    "**We actually found that all the pictures are 1280 * 960 from the code above**"
   ]
  },
  {
   "cell_type": "code",
   "execution_count": 42,
   "metadata": {},
   "outputs": [
    {
     "name": "stdout",
     "output_type": "stream",
     "text": [
      "{'doNotEnter': 0, 'curveRight': 1, 'speedLimit35': 2, 'pedestrianCrossing': 3, 'stop': 4, 'stopAhead': 5, 'signalAhead': 6, 'intersectionLaneControl': 7, 'bicyclesMayUseFullLane': 8, 'speedLimit25': 9, 'yieldToPedestrian': 10, 'noParking': 11, 'speedLimit15': 12, 'speedBumpsAhead': 13, 'speedLimit30': 14, 'curveLeft': 15, 'noLeftAndUTurn': 16, 'noUTurn': 17, 'keepRight': 18, 'leftAndUTurnControl': 19, 'merge': 20, 'speedLimit40': 21, 'speedLimit45': 22, 'addedLane': 23, 'speedLimit50': 24, 'school': 25, 'intersection': 26, 'laneEnds': 27, 'noRightTurn': 28, 'yieldAhead': 29, 'speedLimit60': 30}\n"
     ]
    }
   ],
   "source": [
    "# we need to create a list of <object-class> <x_center> <y_center> <width> <height>\n",
    "# so first we need to create a hashmap that map object-class to its number\n",
    "index = 0\n",
    "class2index = {}\n",
    "for i in myclass:\n",
    "    class2index[i] = index\n",
    "    index += 1\n",
    "print(class2index)"
   ]
  },
  {
   "cell_type": "code",
   "execution_count": 89,
   "metadata": {},
   "outputs": [],
   "source": [
    "for item in csvfile.iterrows():\n",
    "    name = item[1][0]\n",
    "    arr = name.split(\"/\")\n",
    "    path = arr[0] + \"/\" + arr[1]\n",
    "    filename = arr[2]\n",
    "    fn = arr[2].split(\".\")\n",
    "    filename = \"training/\" + path + \"/\" + fn[0]+\".\" + fn[1] + \".txt\"\n",
    "    #for example: <x> = <absolute_x> / <image_width> or <height> = <absolute_height> / <image_height>\n",
    "    #atention: <x_center> <y_center> - are center of rectangle (are not top-left corner)\n",
    "    row = (str)(class2index[item[1][1]]) + \" \"\n",
    "    x_center = round((item[1][2] + item[1][4])/2,6)\n",
    "    y_center = round((item[1][3] + item[1][5])/2,6)\n",
    "    width = round(abs(item[1][2] - item[1][4])/1280,6)\n",
    "    height = round(abs(item[1][3] - item[1][5])/960,6)\n",
    "    row = row + str(x_center) + \" \" + str(y_center) + \" \" + str(width) + \" \" + str(height)\n",
    "    # Now we have everything, time to write the file\n",
    "    f = open(filename, 'w')\n",
    "    f.write(row)\n",
    "    f.close"
   ]
  }
 ],
 "metadata": {
  "kernelspec": {
   "display_name": "Python 3",
   "language": "python",
   "name": "python3"
  },
  "language_info": {
   "codemirror_mode": {
    "name": "ipython",
    "version": 3
   },
   "file_extension": ".py",
   "mimetype": "text/x-python",
   "name": "python",
   "nbconvert_exporter": "python",
   "pygments_lexer": "ipython3",
   "version": "3.7.1"
  }
 },
 "nbformat": 4,
 "nbformat_minor": 2
}
